{
  "nbformat": 4,
  "nbformat_minor": 0,
  "metadata": {
    "colab": {
      "name": "DigitClassifier.ipynb",
      "provenance": [],
      "collapsed_sections": [],
      "authorship_tag": "ABX9TyMAvCiQR63gmdY7hvK8MIn/",
      "include_colab_link": true
    },
    "kernelspec": {
      "name": "python3",
      "display_name": "Python 3"
    }
  },
  "cells": [
    {
      "cell_type": "markdown",
      "metadata": {
        "id": "view-in-github",
        "colab_type": "text"
      },
      "source": [
        "<a href=\"https://colab.research.google.com/github/YashSarda10/Mini-Project-Digit-Recognizer/blob/master/DigitClassifier.ipynb\" target=\"_parent\"><img src=\"https://colab.research.google.com/assets/colab-badge.svg\" alt=\"Open In Colab\"/></a>"
      ]
    },
    {
      "cell_type": "code",
      "metadata": {
        "id": "Jtj1SYtUAXnW",
        "colab_type": "code",
        "colab": {}
      },
      "source": [
        "import tensorflow as tf\n",
        "import numpy as np\n",
        "import tensorflow.keras as keras\n",
        "import matplotlib.pyplot as plt\n",
        "from sklearn.preprocessing import LabelEncoder\n",
        "from keras.utils import np_utils"
      ],
      "execution_count": 1,
      "outputs": []
    },
    {
      "cell_type": "code",
      "metadata": {
        "id": "1mywzOPMKnxK",
        "colab_type": "code",
        "colab": {}
      },
      "source": [
        "from keras.datasets import mnist\n",
        "(x_train, y_train), (x_test, y_test) = mnist.load_data()"
      ],
      "execution_count": 2,
      "outputs": []
    },
    {
      "cell_type": "code",
      "metadata": {
        "id": "M-fZqBI6KzaN",
        "colab_type": "code",
        "colab": {
          "base_uri": "https://localhost:8080/",
          "height": 332
        },
        "outputId": "51d356b1-1400-4ea5-9965-fecbbc6a62b8"
      },
      "source": [
        "print(x_train.shape)\n",
        "print(x_test.shape)\n",
        "print(y_train[35])\n",
        "plt.imshow(x_train[35], cmap='Greys')\n",
        "plt.show()\n",
        "print(x_train[35].dtype)"
      ],
      "execution_count": 3,
      "outputs": [
        {
          "output_type": "stream",
          "text": [
            "(60000, 28, 28)\n",
            "(10000, 28, 28)\n",
            "5\n"
          ],
          "name": "stdout"
        },
        {
          "output_type": "display_data",
          "data": {
            "image/png": "[encoded data removed]",
            "text/plain": [
              "<Figure size 432x288 with 1 Axes>"
            ]
          },
          "metadata": {
            "tags": [],
            "needs_background": "light"
          }
        },
        {
          "output_type": "stream",
          "text": [
            "uint8\n"
          ],
          "name": "stdout"
        }
      ]
    },
    {
      "cell_type": "code",
      "metadata": {
        "id": "AP6_ze9OK5t9",
        "colab_type": "code",
        "colab": {}
      },
      "source": [
        "model = tf.keras.models.Sequential()\n",
        "model.add(tf.keras.layers.Flatten())\n",
        "model.add(tf.keras.layers.Dense(512,activation ='relu'))                        \n",
        "model.add(tf.keras.layers.Dropout(0.2))\n",
        "\n",
        "model.add(tf.keras.layers.Dense(512,activation ='relu'))\n",
        "model.add(tf.keras.layers.Dropout(0.2))\n",
        "\n",
        "model.add(tf.keras.layers.Dense(512,activation ='softmax'))"
      ],
      "execution_count": 4,
      "outputs": []
    },
    {
      "cell_type": "code",
      "metadata": {
        "id": "RFwGVV4A9rN1",
        "colab_type": "code",
        "colab": {}
      },
      "source": [
        "model.compile(optimizer='adam',loss = 'sparse_categorical_crossentropy',metrics = 'accuracy')"
      ],
      "execution_count": 5,
      "outputs": []
    },
    {
      "cell_type": "code",
      "metadata": {
        "id": "3a_YL_WH9r9Y",
        "colab_type": "code",
        "colab": {
          "base_uri": "https://localhost:8080/",
          "height": 857
        },
        "outputId": "d32f96f4-d139-43ef-fa24-473ddf1fe31f"
      },
      "source": [
        "history = model.fit(x_train, y_train,batch_size=128, epochs=25,verbose=2,validation_data=(x_test, y_test))"
      ],
      "execution_count": 6,
      "outputs": [
        {
          "output_type": "stream",
          "text": [
            "Epoch 1/25\n",
            "469/469 - 10s - loss: 2.4610 - accuracy: 0.8682 - val_loss: 0.2788 - val_accuracy: 0.9467\n",
            "Epoch 2/25\n",
            "469/469 - 9s - loss: 0.3616 - accuracy: 0.9279 - val_loss: 0.1516 - val_accuracy: 0.9582\n",
            "Epoch 3/25\n",
            "469/469 - 9s - loss: 0.2196 - accuracy: 0.9467 - val_loss: 0.1412 - val_accuracy: 0.9621\n",
            "Epoch 4/25\n",
            "469/469 - 9s - loss: 0.1679 - accuracy: 0.9548 - val_loss: 0.1319 - val_accuracy: 0.9648\n",
            "Epoch 5/25\n",
            "469/469 - 9s - loss: 0.1477 - accuracy: 0.9591 - val_loss: 0.1207 - val_accuracy: 0.9656\n",
            "Epoch 6/25\n",
            "469/469 - 9s - loss: 0.1415 - accuracy: 0.9616 - val_loss: 0.1181 - val_accuracy: 0.9684\n",
            "Epoch 7/25\n",
            "469/469 - 9s - loss: 0.1265 - accuracy: 0.9654 - val_loss: 0.1125 - val_accuracy: 0.9709\n",
            "Epoch 8/25\n",
            "469/469 - 9s - loss: 0.1433 - accuracy: 0.9615 - val_loss: 0.1459 - val_accuracy: 0.9625\n",
            "Epoch 9/25\n",
            "469/469 - 10s - loss: 0.1423 - accuracy: 0.9631 - val_loss: 0.1265 - val_accuracy: 0.9670\n",
            "Epoch 10/25\n",
            "469/469 - 9s - loss: 0.1400 - accuracy: 0.9631 - val_loss: 0.1305 - val_accuracy: 0.9650\n",
            "Epoch 11/25\n",
            "469/469 - 9s - loss: 0.1416 - accuracy: 0.9635 - val_loss: 0.1666 - val_accuracy: 0.9622\n",
            "Epoch 12/25\n",
            "469/469 - 10s - loss: 0.1422 - accuracy: 0.9651 - val_loss: 0.1210 - val_accuracy: 0.9716\n",
            "Epoch 13/25\n",
            "469/469 - 9s - loss: 0.1328 - accuracy: 0.9672 - val_loss: 0.1565 - val_accuracy: 0.9650\n",
            "Epoch 14/25\n",
            "469/469 - 9s - loss: 0.1265 - accuracy: 0.9680 - val_loss: 0.1504 - val_accuracy: 0.9646\n",
            "Epoch 15/25\n",
            "469/469 - 10s - loss: 0.1333 - accuracy: 0.9678 - val_loss: 0.1161 - val_accuracy: 0.9733\n",
            "Epoch 16/25\n",
            "469/469 - 10s - loss: 0.1206 - accuracy: 0.9699 - val_loss: 0.1441 - val_accuracy: 0.9690\n",
            "Epoch 17/25\n",
            "469/469 - 9s - loss: 0.1212 - accuracy: 0.9705 - val_loss: 0.1280 - val_accuracy: 0.9729\n",
            "Epoch 18/25\n",
            "469/469 - 9s - loss: 0.1252 - accuracy: 0.9711 - val_loss: 0.1303 - val_accuracy: 0.9748\n",
            "Epoch 19/25\n",
            "469/469 - 9s - loss: 0.1201 - accuracy: 0.9717 - val_loss: 0.1447 - val_accuracy: 0.9725\n",
            "Epoch 20/25\n",
            "469/469 - 9s - loss: 0.1101 - accuracy: 0.9742 - val_loss: 0.1550 - val_accuracy: 0.9686\n",
            "Epoch 21/25\n",
            "469/469 - 9s - loss: 0.1217 - accuracy: 0.9722 - val_loss: 0.1273 - val_accuracy: 0.9749\n",
            "Epoch 22/25\n",
            "469/469 - 9s - loss: 0.1000 - accuracy: 0.9749 - val_loss: 0.1615 - val_accuracy: 0.9698\n",
            "Epoch 23/25\n",
            "469/469 - 9s - loss: 0.1097 - accuracy: 0.9751 - val_loss: 0.1592 - val_accuracy: 0.9742\n",
            "Epoch 24/25\n",
            "469/469 - 9s - loss: 0.1070 - accuracy: 0.9751 - val_loss: 0.1475 - val_accuracy: 0.9715\n",
            "Epoch 25/25\n",
            "469/469 - 9s - loss: 0.1051 - accuracy: 0.9753 - val_loss: 0.1555 - val_accuracy: 0.9758\n"
          ],
          "name": "stdout"
        }
      ]
    },
    {
      "cell_type": "code",
      "metadata": {
        "id": "OwCOHzkGO3yr",
        "colab_type": "code",
        "colab": {
          "base_uri": "https://localhost:8080/",
          "height": 34
        },
        "outputId": "45ffd07b-5bf7-44d8-a327-d5e7fb41a839"
      },
      "source": [
        "y_pred = model.predict(x_test)\n",
        "predictions = [ np.argmax(x) for x in y_pred]\n",
        "print(predictions[0:10])"
      ],
      "execution_count": 14,
      "outputs": [
        {
          "output_type": "stream",
          "text": [
            "[7, 2, 1, 0, 4, 1, 4, 9, 6, 9]\n"
          ],
          "name": "stdout"
        }
      ]
    },
    {
      "cell_type": "code",
      "metadata": {
        "id": "kEL8Mc0KtwUF",
        "colab_type": "code",
        "colab": {}
      },
      "source": [
        "test = model.predict(np.reshape(x_test[0],(1,28,28)))"
      ],
      "execution_count": 8,
      "outputs": []
    },
    {
      "cell_type": "code",
      "metadata": {
        "id": "XdpNTPYGR2bv",
        "colab_type": "code",
        "colab": {
          "base_uri": "https://localhost:8080/",
          "height": 34
        },
        "outputId": "d4d5fe72-cda0-4e42-eed1-4e7405f54b31"
      },
      "source": [
        "np.argmax(model.predict(x_test), axis=-1)"
      ],
      "execution_count": 9,
      "outputs": [
        {
          "output_type": "execute_result",
          "data": {
            "text/plain": [
              "array([7, 2, 1, ..., 4, 5, 6])"
            ]
          },
          "metadata": {
            "tags": []
          },
          "execution_count": 9
        }
      ]
    },
    {
      "cell_type": "code",
      "metadata": {
        "id": "QfcYjc8L-A44",
        "colab_type": "code",
        "colab": {
          "base_uri": "https://localhost:8080/",
          "height": 34
        },
        "outputId": "a61b161e-02e7-4f0a-aad2-c0f710ce66c2"
      },
      "source": [
        "# Evaluation\n",
        "from sklearn.metrics import accuracy_score,confusion_matrix\n",
        "accuracy_score(predictions,y_test)"
      ],
      "execution_count": 10,
      "outputs": [
        {
          "output_type": "execute_result",
          "data": {
            "text/plain": [
              "0.9758"
            ]
          },
          "metadata": {
            "tags": []
          },
          "execution_count": 10
        }
      ]
    },
    {
      "cell_type": "code",
      "metadata": {
        "id": "G_uEG1On-BkP",
        "colab_type": "code",
        "colab": {
          "base_uri": "https://localhost:8080/",
          "height": 185
        },
        "outputId": "9372d867-8b66-49f7-ff18-9dc1eb4c1772"
      },
      "source": [
        "confusion_matrix(predictions,y_test)"
      ],
      "execution_count": 11,
      "outputs": [
        {
          "output_type": "execute_result",
          "data": {
            "text/plain": [
              "array([[ 967,    0,    0,    0,    0,    2,    6,    2,    2,    1],\n",
              "       [   1, 1121,    2,    0,    1,    0,    3,    4,    4,    4],\n",
              "       [   1,    0, 1010,    2,    5,    0,    0,    4,    1,    0],\n",
              "       [   1,    3,    1,  992,    0,   18,    1,    0,    3,    5],\n",
              "       [   0,    0,    0,    0,  936,    0,    1,    0,    1,    4],\n",
              "       [   2,    2,    1,    4,    0,  854,    2,    0,    3,    4],\n",
              "       [   4,    1,    0,    0,    4,    8,  941,    0,    4,    0],\n",
              "       [   1,    2,   12,    6,    0,    2,    0, 1011,    6,    7],\n",
              "       [   2,    6,    6,    5,    3,    6,    4,    1,  944,    2],\n",
              "       [   1,    0,    0,    1,   33,    2,    0,    6,    6,  982]])"
            ]
          },
          "metadata": {
            "tags": []
          },
          "execution_count": 11
        }
      ]
    },
    {
      "cell_type": "code",
      "metadata": {
        "id": "xV0fvy9K-QKr",
        "colab_type": "code",
        "colab": {
          "base_uri": "https://localhost:8080/",
          "height": 285
        },
        "outputId": "415ddb5e-a570-4924-b202-f6bf52b7736c"
      },
      "source": [
        "plt.plot(history.history['accuracy'])"
      ],
      "execution_count": 12,
      "outputs": [
        {
          "output_type": "execute_result",
          "data": {
            "text/plain": [
              "[<matplotlib.lines.Line2D at 0x7f202ff10550>]"
            ]
          },
          "metadata": {
            "tags": []
          },
          "execution_count": 12
        },
        {
          "output_type": "display_data",
          "data": {
            "image/png": "[encoded data removed]",
            "text/plain": [
              "<Figure size 432x288 with 1 Axes>"
            ]
          },
          "metadata": {
            "tags": [],
            "needs_background": "light"
          }
        }
      ]
    },
    {
      "cell_type": "code",
      "metadata": {
        "id": "0J-7osR2-xQ5",
        "colab_type": "code",
        "colab": {}
      },
      "source": [
        "model.save('keras_model.h5')"
      ],
      "execution_count": 13,
      "outputs": []
    }
  ]
}